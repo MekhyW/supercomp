{
  "cells": [
    {
      "cell_type": "markdown",
      "metadata": {
        "id": "YCrALvzjFdss"
      },
      "source": [
        "# Insper\n",
        "\n",
        "## Supercomputação - Avaliação Intermediária - 1º semestre de 2024\n",
        "\n",
        "#### SEU NOME: Felipe Catapano Emrich Melo\n",
        "\n",
        "**Regras da prova**:\n",
        "\n",
        "SOBRE HORÁRIOS:\n",
        "- A prova estará liberada no Blackboard das 07h às 21h de 28/março/2024 (horário de Brasília);\n",
        "- A prova tem duração aproximada de 03 horas (180 minutos);\n",
        "-  O aluno poderá realizar a prova ao longo do dia, no(s) horário(s) e espaço(s) de tempo que melhor lhe convier. Ao iniciar a prova você não precisará ficar 3 horas seguidas na sua realização;\n",
        "\n",
        "SOBRE DÚVIDAS:\n",
        "- O professor NÃO estará disponível fisicamente no Insper. O aluno que quiser tirar dúvidas, poderá fazê-lo via grupo de WhatsApp da prova. O link é: https://chat.whatsapp.com/CBTOuOzyDrlIl0948pLYjd\n",
        "\n",
        "SOBRE SUBMISSÕES DA PROVA E DO PROJETO:\n",
        "- A submissão da prova deve ser feita impreterivelmente até às 21h de 28/março/2024 (horário de Brasília). NÃO serão aceitas submissões após este horário;\n",
        "- O aluno poderá fazer múltiplas submissões da prova. O sistema considerará a última submissão como oficial;\n",
        "- A submissão da prova pode ser a resolução no jupyter notebook exportado no Colab ou ZIP com arquivos “.cpp” devidamente sinalizados (a qual questão se referenciam);\n",
        "- Da mesma forma acima, sua submissão intermediária _opcional_ do projeto já pode ser feita no link apropriado do Blackboard. O horário final é o mesmo da prova;\n",
        "\n",
        "SOBRE A RESOLUÇÃO DA PROVA:\n",
        "- A interpretação do enunciado faz parte da avaliação;\n",
        "- É permitida a consulta ao material da disciplina (tudo o que estiver no repositório do Github da disciplina e no site http://insper.github.io/supercomp. Isso também inclui suas próprias soluções aos exercícios de sala de aula, mas não inclui materiais não digitais, tampouco outros materiais além dos citados;\n",
        "- É permitido consultar a documentação de C++ nos sites oficiais e links extras dos próprios enunciados;\n",
        "- Seu pseudocódigo deve ser feito em Português, incluindo nomes de variáveis e comentários;\n",
        "\n",
        "\n",
        "SOBRE QUESTÕES DE ÉTICA E PLÁGIO:\n",
        "- A prova é individual. Qualquer consulta a outras pessoas durante a prova constitui violação do código de ética do Insper;\n",
        "- Qualquer tentativa de fraude, como trechos idênticos ou muito similares, implicará em NOTA ZERO na prova a todos os envolvidos, sem prejuízo de outras sanções.\n",
        "\n",
        "**_Boa prova!_**\n"
      ]
    },
    {
      "cell_type": "markdown",
      "metadata": {
        "id": "b9WD4WL9-TCc"
      },
      "source": [
        "# [1,5 pontos] Questão 01 - Problema do Subconjunto de Soma\n",
        "\n",
        "**Contexto:**\n",
        "\n",
        "O Problema do Subconjunto de Soma é um desafio clássico em ciência da computação e matemática, que se enquadra na categoria de problemas NP-Completo. Ele questiona se, dado um conjunto de números inteiros e um valor alvo, existe um subconjunto desses números cuja soma é igual ao valor alvo. Apesar de sua simplicidade conceitual, resolver este problema pode se tornar computacionalmente intensivo à medida que o tamanho do conjunto aumenta, tornando abordagens exaustivas impraticáveis para grandes conjuntos. Portanto, heurísticas e métodos aproximados se tornam ferramentas valiosas para encontrar soluções em tempo razoável.\n",
        "\n",
        "**Questão:**\n",
        "\n",
        "Considere um conjunto \\( S = \\{s_1, s_2, ..., s_n\\} \\) de números inteiros positivos e um valor alvo \\( T \\). Seu objetivo é desenvolver uma heurística para determinar se existe um subconjunto de \\( S \\) cuja soma é igual a \\( T \\). Sua solução não precisa ser ótima, mas deve ser capaz de encontrar uma resposta em um tempo razoável, mesmo para grandes valores de \\( n \\).\n",
        "\n",
        "Para atingir este objetivo, você deve implementar o seguinte algoritmo heurístico em C++:\n",
        "\n",
        "1. **Pré-processamento:** Ordene os números em \\( S \\) em ordem decrescente. Este passo visa a maximizar a eficiência da sua heurística, permitindo que grandes somas sejam alcançadas rapidamente, potencialmente aproximando-se de \\( T \\) mais rapidamente.\n",
        "\n",
        "2. **Heurística de Aproximação:** Implemente uma função que percorra os números em \\( S \\) na ordem definida. Para cada número \\( s_i \\), decida se deve ou não incluí-lo no subconjunto candidato com base em uma regra heurística simples.\n",
        "\n",
        "3. **Verificação e Saída:** Se, ao final do processo, a soma dos números no subconjunto candidato for igual a \\( T \\), sua função deve retornar `true`, indicando que uma solução foi encontrada. Caso contrário, retorne `false`.\n",
        "\n",
        "**Pede-se**:\n",
        "1. Implemente o algoritmo heurístico descrito acima em C++. (entregue o código)\n",
        "2. Discuta a eficácia da sua heurística. Em que cenários ela pode falhar em encontrar um subconjunto existente que some \\( T \\)? (entregue sua resposta justificada)\n",
        "\n",
        "\n",
        "**DICA**:\n",
        "\n",
        "Uma possível assinatura da sua função é:\n",
        "```cpp\n",
        "bool subsetSum(const vector<int>& set, int sum);\n",
        "```\n",
        "\n",
        "\n",
        "\n"
      ]
    },
    {
      "cell_type": "markdown",
      "metadata": {},
      "source": [
        "1) Solução no arquivo \"subconjunto_de_soma.cpp\""
      ]
    },
    {
      "cell_type": "markdown",
      "metadata": {},
      "source": [
        "2) Uma vez que o algoritmo escolhe apenas baseado no valor atual e sua compatibilidade com o valor alvo, ele pode falhar em encontrar um subconjunto existente que some T em casos onde número suboptimais aparecem primeiro após a ordenação. Ele também pode falhar caso existam valores com diferenças muito grandes entre si; por exemplo, se a soma alvo for relativamente pequena em comparação com os números do conjunto, e houver números grandes no início do conjunto ordenado, o algoritmo pode incluir esses números grandes no início, tornando impossível atingir a soma alvo com os números menores restantes."
      ]
    },
    {
      "cell_type": "markdown",
      "metadata": {
        "id": "d9jNw4n4-TFd"
      },
      "source": [
        "# [1,5 pontos] Questão 02 - Solução Ótima\n",
        "\n",
        "A solução ótima do problema anterior é verificar todos os subconjuntos possíveis dos números de ( S ), calcular a soma de cada um deles e verificar se alguma destas soma é igual ao valor buscado. Essa solução, embora simples, pode não escalar bem para grandes entradas.\n",
        "\n",
        "\n",
        "**Pede-se**:\n",
        "1. Escreva o código da solução ótima em C++ (você pode usar recursão ou não)\n",
        ";\n",
        "2. Gere a solução para 10 entradas distintas em ordens de grandeza diferentes (algumas entradas pequenas, algumas médias, algumas grandes);\n",
        "3. Compare o tempo de execução deste código nas 10 entradas. O comportamento está alinhado com o esperado? Justifique.\n"
      ]
    },
    {
      "cell_type": "markdown",
      "metadata": {},
      "source": [
        "1) Solução no arquivo \"solucao_otima.cpp\" (fiz com o uso de recursão e a biblioteca chrono para medir o tempo de execução sem a necessidade de usar o valgrind)"
      ]
    },
    {
      "cell_type": "markdown",
      "metadata": {},
      "source": [
        "2)\n",
        "\n",
        "| **Entrada**                                                                     | **Tempo (microsegundos)** |\n",
        "|---------------------------------------------------------------------------------|---------------------------|\n",
        "| 2 4 7                                                                           | 180                       |\n",
        "| 3 7 10 15                                                                       | 427                       |\n",
        "| 5 10 15 20 30                                                                   | 401                       |\n",
        "| 4 8 12 16 20 49                                                                 | 501                       |\n",
        "| 1 3 5 7 9 11 13 30                                                              | 463                       |\n",
        "| 2 4 6 8 10 12 14 16 18 40                                                       | 268                       |\n",
        "| 3 6 9 12 15 18 21 24 27 30 46                                                   | 494                       |\n",
        "| 1 2 4 8 16 32 64 128 255                                                        | 421                       |\n",
        "| 2 3 5 7 11 13 17 19 23 29 31 37 41 43 47 53 59 61 67 71 73 79 83 89 97 101 103  | 441                       |\n",
        "| 2 3 5 7 11 13 17 19 23 29 31 37 41 43 47 53 59 61 67 71 73 79 83 89 97 101 1000 | 195272                    |"
      ]
    },
    {
      "cell_type": "markdown",
      "metadata": {},
      "source": [
        "3) Em todos os casos de teste, o tempo de execução foi influenciado pelo tamanho do conjunto de números, pela presença ou não de uma solução e pela proximidade da soma alvo com a soma dos números do conjunto. O tempo de execução foi crescente com o tamanho da entrada, e em casos onde a soma alvo era muito próxima da soma dos números do conjunto, o tempo de execução foi maior, pois o algoritmo precisou verificar todos os subconjuntos possíveis para encontrar a solução. O comportamento está alinhado com o esperado, pois o algoritmo de força bruta é exponencial e, portanto, o tempo de execução cresce exponencialmente com o tamanho do conjunto. <br> É importante ressaltar que para os testes todas as entradas já foram previamente ordenadas para facilitar a comparação dos tempos de execução, porém em casos reais o grau de desordem dos números pode influenciar no tempo de execução."
      ]
    },
    {
      "cell_type": "markdown",
      "metadata": {
        "id": "lxumkH8xhU0d"
      },
      "source": [
        "# [1,0 ponto] Questão 03 - Aleatorização\n",
        "\n",
        "Em sala de aula, nós implementamos diversas estratégias para a mochila\n",
        "binária. Explique a importância de buscar um balanço entre _exploration_ e _exploitation_. Dê um exemplo de como buscamos atingir _exploration_ e outro de como buscamos atingir _exploitation_ no Problema do Subconjunto de Soma. Elabore um pseudocódigo que combine tais estratégias e avalie criticamente sua efetividade."
      ]
    },
    {
      "cell_type": "markdown",
      "metadata": {},
      "source": [
        "A importância de buscar um equilíbrio entre exploration e exploitation no contexto do problema da mochila binária reside na otimização da seleção de itens para maximizar o lucro, respeitando as restrições de capacidade. A exploration envolve a busca de novas soluções, considerando diferentes combinações de itens e explorando o espaço de busca para resultados potencialmente melhores. Por outro lado, a exploitation se concentra na utilização eficiente de informações conhecidas, selecionando itens com base nos seus benefícios imediatos e valores conhecidos.\n",
        "\n",
        "No problema da mochila binária, equilibrar a exploration e a exploitation é crucial porque focar apenas na exploration pode levar à negligência de combinações de itens potencialmente melhores. Por outro lado, a exploração excessiva sem aproveitar itens valiosos conhecidos pode resultar em ineficiência e negligenciar itens de alto lucro já identificados. Esse equilíbrio pode ser alcançado por meio de estratégias como a aleatorização, ou algoritmos genéticos por exemplo."
      ]
    },
    {
      "cell_type": "markdown",
      "metadata": {},
      "source": [
        "**Exemplo de exploration:** ao selecionar itens para a mochila, podemos adotar uma abordagem aleatória para escolher itens iniciais, explorando diferentes combinações de itens para encontrar soluções potencialmente melhores. Isso pode ser feito, por exemplo, por meio de uma heurística que seleciona itens aleatoriamente para compor o subconjunto candidato."
      ]
    },
    {
      "cell_type": "markdown",
      "metadata": {},
      "source": [
        "**Exemplo de exploitation:** depois de encontrar um subconjunto que corresponda ao alvo durante a exploração, podemos usar essas informações para otimizar nosso processo de busca. Podemos, por exemplo, filtrar o espaço de busca evitando explorar subconjuntos que incluem elementos já inclusos em uma solução encontrada anteriormente. Além disso, se encontrarmos um subconjunto com uma soma próxima da meta, mas não igual a ela, podemos priorizar a exploração de subconjuntos que incluam números maiores ou combinações de números com maior probabilidade de atingir a soma desejada."
      ]
    },
    {
      "cell_type": "markdown",
      "metadata": {},
      "source": [
        "**Pseudocódigo combinando exploration e exploitation:**\n",
        "\n",
        "```cpp\n",
        "função mochila(itens disponíveis, capacidade)\n",
        "      bestSubset = vazio\n",
        "      melhorValor = 0\n",
        "      repetir tempos de iterações de exploração:\n",
        "          candidatoSubset = selecionaAleatorio(itens disponíveis)\n",
        "          if checaViavel(candidateSubset,capacidade) e getValor(candidateSubset) > bestValue:\n",
        "              melhorSubconjunto = candidatoSubconjunto\n",
        "              bestValue = getValor(candidateSubset)\n",
        "\n",
        "      se bestSubset não estiver vazio:\n",
        "          itens explorados = itensNoSubset(bestSubset)\n",
        "          availableItems = filtraItens(availableItems, exploredItems)\n",
        "          restanteCapacity = capacidade - pesoTotal(bestSubset)\n",
        "          restantesItems = itens disponíveis\n",
        "          restantesItems = ordenarPorValorDescendente(remainingItems)\n",
        "          para cada item em restantesItems:\n",
        "              if pesoTotal(bestSubset + item) <= capacidade:\n",
        "                  melhorSubconjunto += item\n",
        "                  if getValor(bestSubset) == capacidade:\n",
        "                      return bestSubset\n",
        "      return bestSubset\n",
        "\n",
        "função selecionaAleatorio(itens)\n",
        "      candidatoSubset = vazio\n",
        "      enquanto pesoTotal(candidateSubset) <= capacidade:\n",
        "          selecione aleatoriamente um item dos itens\n",
        "          se adicionar o item a candidateSubset não exceder a capacidade:\n",
        "              adicione o item a candidateSubset\n",
        "      return candidatoSubset\n",
        "```"
      ]
    },
    {
      "cell_type": "markdown",
      "metadata": {
        "id": "q0gXVMKe8trS"
      },
      "source": [
        "# [2,0  pontos] Questão 04 - Profiling\n",
        "\n",
        "Abaixo temos um programa de simulação de uma matriz que está sendo preenchida, o que é comum em muitos programas científicos, de engenharia e de análise de dados. O programa utiliza a multiplicação de matrizes, que pode ser otimizada de várias maneiras.\n",
        "\n",
        "**Atenção**: esse código leva um pouco de tempo para executar sob o Valgrind. Organize seu tempo de prova para isso.\n",
        "\n",
        "Sua tarefa:\n",
        "\n",
        "1. Compile e execute o programa C++ fornecido, que realiza a multiplicação de duas matrizes de tamanho 300x300.\n",
        "2. Use a ferramenta Callgrind do Valgrind para analisar o desempenho do programa.\n",
        "3. Analise o arquivo gerado com a ferramenta callgrind_annotate.\n",
        "4. Identifique as partes do código que são mais exigentes em termos de uso de CPU e número de instruções executadas. Verifique se há oportunidades para otimizar o código.\n",
        "5. Modifique o código para melhorar o desempenho, recompile e execute o Callgrind novamente para comparar os resultados.\n",
        "6. Faça um gráfico que possibilite acompanhar as duas abordagens computacionais (a fornecidade nessa prova e a sua proposta de modificação). O eixo X deve ser o tamanho N (lembre-se é uma matriz quadrada) e o eixo Y deve ser o tempo em segundos. O gráfico deve evidenciar que a sua abordagem é mais eficiente. <font color=\"red\">Atente-se que a implementação do item 6 tem valor de 1 ponto, correspondente a 50% do valor da questão</font>.\n",
        "\n",
        "\n",
        "\n",
        "Código-fonte:\n",
        "\n",
        "```cpp\n",
        "#include <iostream>\n",
        "#include <vector>\n",
        "\n",
        "// Função para multiplicar duas matrizes\n",
        "std::vector<std::vector<int>> multiplicarMatrizes(const std::vector<std::vector<int>>& a,\n",
        "                                                 const std::vector<std::vector<int>>& b) {\n",
        "    int n = a.size();\n",
        "    int m = a[0].size();\n",
        "    int p = b[0].size();\n",
        "    \n",
        "    std::vector<std::vector<int>> c(n, std::vector<int>(p, 0));\n",
        "\n",
        "    for (int i = 0; i < n; ++i) {\n",
        "        for (int j = 0; j < p; ++j) {\n",
        "            for (int k = 0; k < m; ++k) {\n",
        "                c[i][j] += a[i][k] * b[k][j];\n",
        "            }\n",
        "        }\n",
        "    }\n",
        "\n",
        "    return c;\n",
        "}\n",
        "\n",
        "int main() {\n",
        "    int tamanho = 300; // Tamanho da matriz\n",
        "    std::vector<std::vector<int>> a(tamanho, std::vector<int>(tamanho, 1));\n",
        "    std::vector<std::vector<int>> b(tamanho, std::vector<int>(tamanho, 2));\n",
        "\n",
        "    // Multiplicação das matrizes\n",
        "    auto resultado = multiplicarMatrizes(a, b);\n",
        "\n",
        "    std::cout << \"Multiplicação de matrizes concluída.\" << std::endl;\n",
        "\n",
        "    return 0;\n",
        "}\n",
        "```"
      ]
    },
    {
      "cell_type": "markdown",
      "metadata": {},
      "source": [
        "A parte mais exigente em termos de uso de CPU e número de instruções executadas é o loop aninhado triplo dentro da função multiplicarMatrizes, o que para matrizes grandes resulta em um grande número de operações aritméticas a serem executadas (complexidade O(n^3)). \n",
        "\n",
        "Uma grande oportunidade de otimização é a paralelização do loop aninhado triplo, o que pode acelerar o processo de multiplicação de matrizes. Isso pode ser feito com o uso de threads ou com o uso de bibliotecas como OpenMP, Eigen, entre outras, que oferecem implementações otimizadas de operações de álgebra linear."
      ]
    },
    {
      "cell_type": "markdown",
      "metadata": {},
      "source": [
        "**Cópia da versão ingênua original:** arquivo \"matrizmult.cpp\"\n",
        "\n",
        "**Versão otimizada usando threads:** arquivo \"matrizmult_paralelizado.cpp\""
      ]
    },
    {
      "cell_type": "code",
      "execution_count": 3,
      "metadata": {
        "id": "5OM0WxQheraM"
      },
      "outputs": [
        {
          "data": {
            "image/png": "[encoded data removed]",
            "text/plain": [
              "<Figure size 640x480 with 1 Axes>"
            ]
          },
          "metadata": {},
          "output_type": "display_data"
        }
      ],
      "source": [
        "import matplotlib.pyplot as plt\n",
        "\n",
        "ingenuo_x = [10, 20, 30, 40, 50, 60, 70, 80, 90, 100, 110, 120, 130, 140, 150, 160, 170, 180, 190, 200, 210, 220, 230, 240, 250, 260, 270, 280, 290, 300, 310, 320, 330, 340, 350, 360, 370, 380, 390, 400, 410, 420, 430, 440, 450, 460, 470, 480, 490, 500]\n",
        "ingenuo_y = [8, 66, 168, 610, 884, 1238, 1821, 3381, 3829, 5924, 7233, 11741, 12813, 16163, 17957, 21351, 24568, 30851, 41540, 43519, 48621, 63117, 73699, 67659, 76346, 85583, 101495, 107311, 121287, 151422, 150989, 167160, 185230, 204307, 240046, 267798, 275103, 276763, 319370, 358973, 388710, 393511, 388308, 460715, 477205, 482007, 523397, 574083, 614817, 678695]\n",
        "paralelizado_x = [10, 20, 30, 40, 50, 60, 70, 80, 90, 100, 110, 120, 130, 140, 150, 160, 170, 180, 190, 200, 210, 220, 230, 240, 250, 260, 270, 280, 290, 300, 310, 320, 330, 340, 350, 360, 370, 380, 390, 400, 410, 420, 430, 440, 450, 460, 470, 480, 490, 500]\n",
        "paralelizado_y = [1442, 1373, 1599, 1896, 866, 943, 983, 1228, 1734, 2191, 3270, 3347, 4616, 4994, 7869, 8503, 9802, 11048, 13395, 14903, 17617, 25975, 22913, 26005, 30436, 40705, 37620, 42816, 46949, 52028, 57721, 63140, 77008, 74831, 87519, 98647, 62555, 65605, 70786, 79129, 83507, 80660, 83099, 97941, 92706, 103739, 114495, 111281, 134470, 146826]\n",
        "\n",
        "plt.plot(ingenuo_x, ingenuo_y, label='Solução ingênua', color='red')\n",
        "plt.plot(paralelizado_x, paralelizado_y, label='Solução otimizada', color='blue')\n",
        "plt.xlabel('Tamanho das matrizes')\n",
        "plt.ylabel('Tempo de execução (microssegundos)')\n",
        "plt.legend()\n",
        "plt.show()\n"
      ]
    },
    {
      "cell_type": "markdown",
      "metadata": {
        "id": "Qa7y2wJn-zXz"
      },
      "source": [
        "# [1,5 pontos] Questão 05 - Busca global\n",
        "\n",
        "Um algoritmo de busca global, em termos gerais, é um algoritmo de otimização que procura encontrar a melhor solução possível para um problema dentro de um espaço de busca, considerando todas as possíveis soluções. Em outras palavras, ele tenta encontrar o máximo ou mínimo global de uma função objetivo em um domínio especificado.\n",
        "\n",
        "Em alguns problemas a \"busca global\" não se trata de uma otimização, mas de encontrar a única resposta correta possível. Por exemplo, o cálculo de Fibonacci é algoritmo que dado um número `N`, o `fib(N)` assume apenas um valor correto.\n",
        "\n",
        "Observe o código abaixo para cálculo do Fibonacci. Altere o programa para receber `N` como uma entrada, e rode o programa para alguns valores de N, tanto pequenos (abaixo de 30) quanto grandes (acima de 30 --- só não exagere!), comparando os tempos de execução.  \n",
        "\n",
        "Código-fonte:\n",
        "\n",
        "```cpp\n",
        "#include <iostream>\n",
        "\n",
        "int fib(int n) {\n",
        "    if (n <= 1) {\n",
        "        return n;\n",
        "    } else {\n",
        "        return fib(n - 1) + fib(n - 2);\n",
        "    }\n",
        "}\n",
        "\n",
        "int main() {\n",
        "    int n = 30; // Valor de n para calcular Fibonacci\n",
        "    int result = fib(n);\n",
        "    std::cout << \"Fibonacci de \" << n << \" é \" << result << std::endl;\n",
        "    return 0;\n",
        "}\n",
        "```\n",
        "\n",
        "Note que tempo de execução para esta implementação aumenta consideravelmente quando `N` cresce.\n",
        "\n",
        "**Pedes-se**: Implemente  uma otimização para esse algoritmo de modo que sua implementação seja pela abordagem de memorização (*memoization*), ou seja, salvar cálculos já realizados para reaproveitá-los. Apresente código-fonte, resultados e compare os resultados de tempo de execução obtidos."
      ]
    },
    {
      "cell_type": "markdown",
      "metadata": {},
      "source": [
        "**Versão normal com input de N**: \"fibonacci.cpp\"\n",
        "<br>\n",
        "**Versão otimizada**: \"fibonacci_otimizado.cpp\""
      ]
    },
    {
      "cell_type": "markdown",
      "metadata": {},
      "source": [
        "| **Entrada (N)** | **Tempo - ingênuo (μs)** | **Tempo - otimizado (μs)** |\n",
        "|-----------------|--------------------------|----------------------------|\n",
        "| 5               | 0                        | 9                          |\n",
        "| 10              | 1                        | 10                         |\n",
        "| 15              | 6                        | 13                         |\n",
        "| 20              | 50                       | 27                         |\n",
        "| 25              | 552                      | 17                         |\n",
        "| 30              | 6269                     | 29                         |\n",
        "| 35              | 40504                    | 31                         |\n",
        "| 40              | 449959                   | 34                         |\n",
        "| 45              | 4986821                  | 44                         |"
      ]
    },
    {
      "cell_type": "markdown",
      "metadata": {},
      "source": [
        "Apesar de, para valores de N muito pequenos, a versão otimizada apresentar um tempo de execução maior, para valores maiores de N, a versão otimizada é muito mais eficiente, pois evita a repetição de cálculos já realizados. Para valores de N acima de 20, a diferença de tempo de execução entre as duas versões é massiva, o que é o comportamento esperado, uma vez que a versão ingênua possui complexidade exponencial e a versão otimizada possui complexidade linear."
      ]
    },
    {
      "cell_type": "markdown",
      "metadata": {
        "id": "ZafH6UXnXQFF"
      },
      "source": [
        "# [1,5 pontos] Questão 06 - Encontrando o Caminho Mais Curto em uma Rede de Estradas\n",
        "\n",
        "Suponha que você está trabalhando em um aplicativo de navegação GPS e precisa desenvolver uma funcionalidade para encontrar o caminho mais curto entre duas cidades em uma rede de estradas. Você tem informações sobre as estradas e distâncias entre as cidades.\n",
        "\n",
        "Aqui está a descrição da situação:\n",
        "\n",
        "- Você recebe um conjunto de dados que descreve a rede de estradas (arestas) entre as cidades (vértices)\n",
        "- Cada cidade é representada por um vértice no grafo, e cada estrada é representada por uma aresta com um `peso` que indica a distância entre as cidades que conecta.\n",
        "- As cidades são numeradas, por exemplo, 0, 1, 2, 3, 4, 5.\n",
        "- Você precisa criar uma função que, dado o grafo das estradas e duas cidades de origem e destino, encontre o caminho mais curto (menor distância) entre essas duas cidades.\n",
        "\n",
        "_Por exemplo_: Considere o grafo da imagem abaixo\n",
        "\n",
        "![image.png](data:image/png;base64,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)\n",
        "\n",
        "\n",
        "Tal grafo é representado pelo seguinte arquivo de entrada:\n",
        "\n",
        "```txt\n",
        "6 18   // Número de cidades e número de entradas\n",
        "0 1 7  // Cada linha contém os IDs das cidades de início e fim da estrada e seu peso\n",
        "0 2 9\n",
        "0 5 14\n",
        "1 0 7\n",
        "1 2 10\n",
        "1 3 15\n",
        "2 0 9\n",
        "2 1 10\n",
        "2 3 11\n",
        "2 5 2\n",
        "3 1 15\n",
        "3 2 11\n",
        "3 4 6\n",
        "4 3 6\n",
        "4 5 9\n",
        "5 0 14\n",
        "5 2 2\n",
        "5 4 9\n",
        "3      // Quantidade de caminhos a serem calculados\n",
        "0 4    // Cada linha contém os IDs das cidades de origem e destino daquele caminho\n",
        "1 3\n",
        "5 0\n",
        "```\n",
        "\n",
        "Para a entrada acima o output do programa deve ser:\n",
        "\n",
        "```txt\n",
        "Caminho mais curto de 0 para 4: 0 2 5 4\n",
        "Caminho mais curto de 1 para 3: 1 3\n",
        "Caminho mais curto de 5 para 0: 5 2 0\n",
        "```\n",
        "\n",
        "Questão:\n",
        "\n",
        "1. Dado o grafo das estradas e suas distâncias, complete o código abaixo implementando em C++ o **algoritmo de Dijkstra**, que encontra o caminho mais curto entre duas cidades de origem e destino. O pseudocódigo e algumas dicas estão fornecidas abaixo.\n",
        "\n",
        "2. Teste seu código com (a) a entrada/saída do exemplo dado e (b) o par abaixo. Se quiser, fique à vontade para desenhar outros grafos e propor outras entradas/saídas.\n",
        "\n",
        "3. Explique brevemente como o algoritmo de Dijkstra funciona, refletindo sobre sua complexidade computacional. Indique a partir de qual tamanho de entrada (em termos de vértices e arestas), a computação fica inviável em termos de tempo de execução, justificando sua resposta.  \n",
        "\n",
        "```cpp\n",
        "#include <iostream>\n",
        "#include <vector>\n",
        "#include <queue>\n",
        "#include <limits>\n",
        "#include <algorithm>\n",
        "\n",
        "using namespace std;\n",
        "\n",
        "// Definindo uma estrutura para representar um nó no grafo ponderado\n",
        "struct Node {\n",
        "    int id;\n",
        "    int distance;\n",
        "\n",
        "    Node(int _id, int _distance) : id(_id), distance(_distance) {}\n",
        "\n",
        "    // Sobrecarregando o operador \"<\" para usar com uma fila de prioridade\n",
        "    bool operator<(const Node& other) const {\n",
        "        return distance > other.distance;\n",
        "    }\n",
        "};\n",
        "\n",
        "// Assinatura da função para encontrar o caminho mais curto usando o algoritmo de Dijkstra. Sua implementação deve obedecer esta assinatura. Inclua aqui o seu código.\n",
        "vector<int> dijkstra(const vector<vector<pair<int, int>>>& graph, int source, int destination);\n",
        "\n",
        "\n",
        "vector<vector<pair<int, int>>> le_grafo() {\n",
        "  int N;         // Número de cidades\n",
        "  int E;         // Número de estradas\n",
        "  int i, f, p;   // Início, fim e peso da estrada\n",
        "  \n",
        "  cin >> N >> E;\n",
        "  \n",
        "  vector<vector<pair<int, int>>> graph(N);\n",
        "  for (int x=0; x<E; x++) {\n",
        "    cin >> i >> f >> p;\n",
        "    graph[i].push_back({f, p});  // ida\n",
        "    graph[f].push_back({i, p});  // volta\n",
        "  }\n",
        "\n",
        "  return graph;\n",
        "}\n",
        "\n",
        "\n",
        "vector<vector<pair<int, int>>> le_caminhos() {\n",
        "  int C;         // Número de caminhos a serem calculados\n",
        "  int o, d;      // Início e fim\n",
        "\n",
        "  cin >> C;\n",
        "  \n",
        "  vector<vector<pair<int, int>>> caminhos(C);\n",
        "  for (int x=0; x<C; x++) {\n",
        "    cin >> o >> d;\n",
        "    caminhos[x].push_back({o, d});\n",
        "  }\n",
        "\n",
        "  return caminhos;  \n",
        "}\n",
        "\n",
        "\n",
        "int main() {\n",
        "\n",
        "    // Lê os dados\n",
        "    vector<vector<pair<int, int>>> graph = le_grafo();\n",
        "    vector<vector<pair<int, int>>> caminhos = le_caminhos();\n",
        "\n",
        "    // Calculando e exibindo os resultados\n",
        "    for (auto& p : caminhos){\n",
        "      int origem = p[0].first;   // origem\n",
        "      int destino = p[0].second; // destino\n",
        "\n",
        "      // Encontrando o caminho mais curto entre origem e destino\n",
        "      vector<int> path = dijkstra(graph, origem, destino);\n",
        "\n",
        "      // Imprimindo a resposta\n",
        "      cout << \"Caminho mais curto de \" << origem << \" para \" << destino << \": \";\n",
        "      for (int node : path) {\n",
        "        cout << node << \" \";\n",
        "      }\n",
        "      cout << endl;\n",
        "    }\n",
        "\n",
        "    return 0;\n",
        "}\n",
        "\n",
        "```\n",
        "\n",
        "_Pseudocódigo do Algoritmo de Dijkstra_:\n",
        "\n",
        "\n",
        "```\n",
        "Função dijkstra(graph, source, destination):\n",
        "    numNodes = Tamanho do grafo\n",
        "    Declare distance[numNodes] e previous[numNodes]\n",
        "    Inicialize distance com valores infinitos e previous com -1\n",
        "    \n",
        "    distance[source] = 0\n",
        "    Declare uma fila de prioridade pq\n",
        "    \n",
        "    pq.inserir(Nó(source, 0))  # Insira o nó de origem na fila com distância zero\n",
        "    \n",
        "    Enquanto pq não estiver vazia:\n",
        "        current = pq.remover()  # Remova o nó com a menor distância da fila\n",
        "        u = current.id\n",
        "        \n",
        "        Se u igual a destination:\n",
        "            # Chegamos ao destino, pare a busca\n",
        "            Pare o loop\n",
        "        \n",
        "        Para cada vizinho em graph[u]:\n",
        "            v = vizinho.id\n",
        "            weight = vizinho.peso\n",
        "            \n",
        "            Se distance[u] + weight < distance[v]:\n",
        "                distance[v] = distance[u] + weight\n",
        "                previous[v] = u\n",
        "                pq.inserir(Nó(v, distance[v]))  # Atualize a fila de prioridade\n",
        "                \n",
        "    # Reconstrua o caminho a partir do destino para a origem\n",
        "    Declare path como uma lista vazia\n",
        "    current = destination\n",
        "    \n",
        "    Enquanto current diferente de -1:\n",
        "        Adicione current ao início de path\n",
        "        current = previous[current]\n",
        "    \n",
        "    Inverta a lista path\n",
        "\n",
        "    Retorne path\n",
        "\n",
        "```\n",
        "\n",
        "_Dicas sobre a implementação do pseudocódigo_:\n",
        "\n",
        "- Os `#include` necessários já foram feitos. Você pode utilizar outros se precisar;\n",
        "- Utilize uma fila de prioridade para armazenar a visita aos nós. Isso otimiza o tempo de execução. A fila de prioridade está implementada na biblioteca `queue`, sob o nome `priority_queue`. Veja [aqui](https://cplusplus.com/reference/queue/priority_queue/) uma documentação, se precisar;\n",
        "- O grafo representado na variável `vector<vector<pair<int, int>>> graph` na verdade é uma lista de listas de pares. Cada [par](https://cplusplus.com/reference/utility/pair/) é uma estrutura (tupla) denominada `pair`, cujos primeiros e segundos valores são acessados pelos membros públicos `first` and `second`;\n",
        "- Lembre que você pode inicializar variáveis de forma mais simples na própria declaração;\n",
        "- Você pode assumir que os pesos das arestas serão sempre inteiros. Utilize `numeric_limits<int>::max()` para representar o valor \"infinito\".\n",
        "\n",
        "\n",
        "_Entrada e Saída extras_:\n",
        "\n",
        "IN\n",
        "```txt\n",
        "8 8  \n",
        "0 1 3\n",
        "1 3 9\n",
        "3 4 8\n",
        "3 5 10\n",
        "3 6 15\n",
        "6 7 2\n",
        "4 2 3\n",
        "4 5 7\n",
        "6\n",
        "7 2  \n",
        "0 5\n",
        "1 2\n",
        "2 6\n",
        "2 1\n",
        "5 1\n",
        "```\n",
        "\n",
        "OUT\n",
        "```txt\n",
        "Caminho mais curto de 7 para 2: 7 6 3 4 2\n",
        "Caminho mais curto de 0 para 5: 0 1 3 5\n",
        "Caminho mais curto de 1 para 2: 1 3 4 2\n",
        "Caminho mais curto de 2 para 6: 2 4 3 6\n",
        "Caminho mais curto de 2 para 1: 2 4 3 1\n",
        "Caminho mais curto de 5 para 1: 5 3 1\n",
        "```"
      ]
    },
    {
      "cell_type": "markdown",
      "metadata": {},
      "source": [
        "1) Solução no arquivo \"dijkstra.cpp\""
      ]
    },
    {
      "cell_type": "markdown",
      "metadata": {},
      "source": [
        "2) \n",
        "![output 1](dijkstra_output_1.png)\n",
        "![output 2](dijkstra_output_2.png)"
      ]
    },
    {
      "cell_type": "markdown",
      "metadata": {},
      "source": [
        "3) O algoritmo de Dijkstra é um algoritmo clássico de busca que encontra o caminho mais curto entre nós em um grafo ponderado. Ele opera selecionando iterativamente o nó com a menor distância do nó inicial e atualizando as distâncias para seus vizinhos. O algoritmo mantém uma fila de prioridade para selecionar com eficiência o próximo nó a ser explorado com base nas distâncias atualmente conhecidas. A complexidade computacional desse algoritmo depende da representação do gráfico. Usando uma matriz de adjacência, a complexidade de tempo é O(V^2), onde V é o número de vértices. No entanto, com uma lista de adjacências e um heap como fila de prioridade, a complexidade do tempo pode ser reduzida para O((V+E)logV), onde E é o número de arestas. <br> À medida que o tamanho da entrada em termos de vértices e arestas aumenta, a complexidade computacional do algoritmo de Dijkstra pode se tornar inviável em termos de tempo de execução. Especificamente, quando o número de vértices e arestas é muito grande, a complexidade de tempo O((V+E)logV) pode levar a tempos de execução mais longos, especialmente em cenários com grafos densos onde o número de arestas está próximo do máximo possível (ou seja, o número de arestas é muito maior do que o número de vértices). Nesses casos, o algoritmo pode se tornar impraticável para aplicações em tempo real ou redes de grande escala."
      ]
    },
    {
      "cell_type": "markdown",
      "metadata": {
        "id": "k7bbxYasZHhF"
      },
      "source": [
        "# [1.0 ponto] Questão 07 - Uso de Cluster em Supercomputação\n",
        "\n",
        "Esta disciplina estuda estratégias para resolver problemas complexos em tempo computacionalmente razoável.\n",
        "\n",
        "**Pede-se**:\n",
        "1. Qual é a importância de aliar estratégias de implementação (Software) com recursos computacionais disponíveis (Hardware) para melhor endereçamento do problema?\n",
        "2. Considerando a administração de um cluster, existem diversas estratégias que permitem e alocação mais adequada dos jobs nas máquinas de computação. Discorra sobre tais estratégias analisando-as criticamente em termos de efetividade e viabilização.\n",
        "\n"
      ]
    },
    {
      "cell_type": "markdown",
      "metadata": {},
      "source": [
        "1) A sinergia entre software e hardware otimiza a eficiência e escalabilidade dos processos de resolução de problemas, pois afinal, o software é ultimamente o responsável por orquestrar o hardware no qual ele é executado, e o hardware é o responsável por executar as instruções do software. Para que seja obtido o melhor desempenho possível em um sistema, é necessário tanto que o software seja escrito de forma a possuir a menor complexidade computacional possível, quanto que o hardware seja capaz de executar as instruções do software de forma eficiente, valendo-se de técnicas como paralelismo, caching eficiente, entre outras. Além disso, cada hardware possui suas particularidades, o que torna a compilação de um software específico para aproveitar melhor as instruções disponíveis em um hardware específico uma tarefa importante para a otimização do desempenho."
      ]
    },
    {
      "cell_type": "markdown",
      "metadata": {},
      "source": [
        "2) Várias estratégias desempenham um papel crucial para garantir a alocação adequada de jobs em clusters. \n",
        "Vejamos algumas estratégias-chave, usando o SLURM como exemplo de gerenciador de cluster:\n",
        "\n",
        "- Alocação eficiente de recursos, que envolve o gerenciamento e a distribuição eficaz de recursos do sistema, como CPUs, GPUs, memória e armazenamento, para otimizar o desempenho e garantir que os aplicativos sejam executados com eficiência.\n",
        "\n",
        "- Alocação de tarefas: estratégias de alocação de tarefas, como o algoritmo K-means modificado para alocação de tarefas na nuvem, desempenham um papel vital na distribuição eficiente de tarefas entre recursos de computação. O SLURM incorpora principalmente (mas não apenas) critérios de idade, em que os jobs mais antigos recebem maior prioridade, de fairshare, que garantem que todos os utilizadores recebem uma parte justa dos recursos ao longo do tempo, e de QOS.\n",
        "\n",
        "- Isolamento e particionamento: Gerenciadores como o SLURM permitem que os administradores agrupem nós com base nas características de hardware ou nos requisitos do usuário. O particionamento aprimora o gerenciamento de recursos ao segregar recursos para finalidades ou usuários específicos, otimizando a utilização de recursos e o desempenho do sistema.\n",
        "\n",
        "- CI/CD para clusters: a implementação de pipelines de CI/CD (Integração Contínua/Entrega Contínua) para clusters é essencial para automatizar a implantação, teste e monitoramento de aplicativos em ambientes de cluster. Isso garante a consistência, a confiabilidade e a escalabilidade dos aplicativos, além de acelerar o ciclo de desenvolvimento e implantação.\n",
        "\n",
        "- Logging e alertas: a implementação de sistemas de logging e alertas em clusters é fundamental para monitorar o desempenho, identificar problemas e tomar medidas corretivas. Os logs fornecem informações valiosas sobre o uso de recursos, o desempenho do sistema e a atividade do usuário, enquanto os alertas notificam os administradores sobre eventos críticos ou anomalias."
      ]
    }
  ],
  "metadata": {
    "colab": {
      "provenance": []
    },
    "kernelspec": {
      "display_name": "Python 3",
      "name": "python3"
    },
    "language_info": {
      "codemirror_mode": {
        "name": "ipython",
        "version": 3
      },
      "file_extension": ".py",
      "mimetype": "text/x-python",
      "name": "python",
      "nbconvert_exporter": "python",
      "pygments_lexer": "ipython3",
      "version": "3.11.0"
    }
  },
  "nbformat": 4,
  "nbformat_minor": 0
}
