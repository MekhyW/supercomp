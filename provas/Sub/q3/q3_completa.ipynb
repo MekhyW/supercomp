{
  "cells": [
    {
      "cell_type": "code",
      "source": [
        "%%writefile parallel_reduction.cu\n",
        "#include <iostream>\n",
        "#include <vector>\n",
        "#include <cstdlib>\n",
        "#include <ctime>\n",
        "#include <thrust/host_vector.h>\n",
        "#include <thrust/device_vector.h>\n",
        "#include <thrust/reduce.h>\n",
        "\n",
        "int main() {\n",
        "    std::srand(std::time(nullptr));\n",
        "    const size_t N = 200000;\n",
        "    thrust::host_vector<int> h_vec(N);\n",
        "    for (size_t i = 0; i < N; ++i) {\n",
        "        h_vec[i] = std::rand() % 100;\n",
        "    }\n",
        "    thrust::device_vector<int> d_vec = h_vec;\n",
        "    int sum = thrust::reduce(d_vec.begin(), d_vec.end(), 0, thrust::plus<int>());\n",
        "    std::cout << \"Sum of elements: \" << sum << std::endl;\n",
        "    return 0;\n",
        "}\n"
      ],
      "metadata": {
        "colab": {
          "base_uri": "https://localhost:8080/"
        },
        "id": "3e-yWwD8LITG",
        "outputId": "a1d516d7-8d24-423c-9444-579530af3a23"
      },
      "execution_count": 7,
      "outputs": [
        {
          "output_type": "stream",
          "name": "stdout",
          "text": [
            "Writing parallel_reduction.cu\n"
          ]
        }
      ]
    },
    {
      "cell_type": "markdown",
      "source": [
        "Compilando o código"
      ],
      "metadata": {
        "id": "ArC24yXgKpon"
      }
    },
    {
      "cell_type": "code",
      "source": [
        "!nvcc -arch=sm_75 -std=c++14 parallel_reduction.cu -o parallel_reduction"
      ],
      "metadata": {
        "id": "8bwfjLxDLqoX"
      },
      "execution_count": 8,
      "outputs": []
    },
    {
      "cell_type": "code",
      "source": [
        "%%time\n",
        "!./parallel_reduction"
      ],
      "metadata": {
        "colab": {
          "base_uri": "https://localhost:8080/"
        },
        "id": "IcrtojzSLs3e",
        "outputId": "7f55b57e-0f4e-4b19-a62e-ae9a49a8d63f"
      },
      "execution_count": 9,
      "outputs": [
        {
          "output_type": "stream",
          "name": "stdout",
          "text": [
            "Sum of elements: 9920258\n",
            "CPU times: user 2.88 ms, sys: 2.69 ms, total: 5.57 ms\n",
            "Wall time: 205 ms\n"
          ]
        }
      ]
    }
  ],
  "metadata": {
    "accelerator": "GPU",
    "colab": {
      "provenance": []
    },
    "kernelspec": {
      "display_name": "Python 3",
      "name": "python3"
    },
    "language_info": {
      "name": "python"
    }
  },
  "nbformat": 4,
  "nbformat_minor": 0
}